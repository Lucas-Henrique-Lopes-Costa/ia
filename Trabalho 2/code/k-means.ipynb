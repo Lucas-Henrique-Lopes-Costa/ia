{
 "cells": [
  {
   "cell_type": "code",
   "execution_count": 31,
   "id": "b2253c94",
   "metadata": {},
   "outputs": [],
   "source": [
    "import numpy as np\n",
    "import pandas as pd"
   ]
  },
  {
   "cell_type": "code",
   "execution_count": 32,
   "id": "2feaad24",
   "metadata": {},
   "outputs": [],
   "source": [
    "dataset = pd.read_csv('./Iris.csv')"
   ]
  },
  {
   "cell_type": "code",
   "execution_count": 33,
   "id": "5a965fdc",
   "metadata": {},
   "outputs": [
    {
     "data": {
      "text/plain": [
       "(150, 6)"
      ]
     },
     "execution_count": 33,
     "metadata": {},
     "output_type": "execute_result"
    }
   ],
   "source": [
    "dataset.shape"
   ]
  },
  {
   "cell_type": "code",
   "execution_count": 34,
   "id": "59b0cdb4",
   "metadata": {},
   "outputs": [
    {
     "data": {
      "text/html": [
       "<div>\n",
       "<style scoped>\n",
       "    .dataframe tbody tr th:only-of-type {\n",
       "        vertical-align: middle;\n",
       "    }\n",
       "\n",
       "    .dataframe tbody tr th {\n",
       "        vertical-align: top;\n",
       "    }\n",
       "\n",
       "    .dataframe thead th {\n",
       "        text-align: right;\n",
       "    }\n",
       "</style>\n",
       "<table border=\"1\" class=\"dataframe\">\n",
       "  <thead>\n",
       "    <tr style=\"text-align: right;\">\n",
       "      <th></th>\n",
       "      <th>Id</th>\n",
       "      <th>SepalLengthCm</th>\n",
       "      <th>SepalWidthCm</th>\n",
       "      <th>PetalLengthCm</th>\n",
       "      <th>PetalWidthCm</th>\n",
       "      <th>Species</th>\n",
       "    </tr>\n",
       "  </thead>\n",
       "  <tbody>\n",
       "    <tr>\n",
       "      <th>0</th>\n",
       "      <td>1</td>\n",
       "      <td>5.1</td>\n",
       "      <td>3.5</td>\n",
       "      <td>1.4</td>\n",
       "      <td>0.2</td>\n",
       "      <td>Iris-setosa</td>\n",
       "    </tr>\n",
       "    <tr>\n",
       "      <th>1</th>\n",
       "      <td>2</td>\n",
       "      <td>4.9</td>\n",
       "      <td>3.0</td>\n",
       "      <td>1.4</td>\n",
       "      <td>0.2</td>\n",
       "      <td>Iris-setosa</td>\n",
       "    </tr>\n",
       "    <tr>\n",
       "      <th>2</th>\n",
       "      <td>3</td>\n",
       "      <td>4.7</td>\n",
       "      <td>3.2</td>\n",
       "      <td>1.3</td>\n",
       "      <td>0.2</td>\n",
       "      <td>Iris-setosa</td>\n",
       "    </tr>\n",
       "    <tr>\n",
       "      <th>3</th>\n",
       "      <td>4</td>\n",
       "      <td>4.6</td>\n",
       "      <td>3.1</td>\n",
       "      <td>1.5</td>\n",
       "      <td>0.2</td>\n",
       "      <td>Iris-setosa</td>\n",
       "    </tr>\n",
       "    <tr>\n",
       "      <th>4</th>\n",
       "      <td>5</td>\n",
       "      <td>5.0</td>\n",
       "      <td>3.6</td>\n",
       "      <td>1.4</td>\n",
       "      <td>0.2</td>\n",
       "      <td>Iris-setosa</td>\n",
       "    </tr>\n",
       "  </tbody>\n",
       "</table>\n",
       "</div>"
      ],
      "text/plain": [
       "   Id  SepalLengthCm  SepalWidthCm  PetalLengthCm  PetalWidthCm      Species\n",
       "0   1            5.1           3.5            1.4           0.2  Iris-setosa\n",
       "1   2            4.9           3.0            1.4           0.2  Iris-setosa\n",
       "2   3            4.7           3.2            1.3           0.2  Iris-setosa\n",
       "3   4            4.6           3.1            1.5           0.2  Iris-setosa\n",
       "4   5            5.0           3.6            1.4           0.2  Iris-setosa"
      ]
     },
     "execution_count": 34,
     "metadata": {},
     "output_type": "execute_result"
    }
   ],
   "source": [
    "dataset.head(5)"
   ]
  },
  {
   "cell_type": "markdown",
   "id": "fb841356",
   "metadata": {},
   "source": [
    "# Algoritmo K-means - Implementação do Zero\n",
    "\n",
    "## Análise do Dataset Iris\n",
    "\n",
    "O dataset contém 150 amostras com 6 colunas. Conforme a atividade, vamos remover a coluna target (Species) e trabalhar apenas com as features numéricas."
   ]
  },
  {
   "cell_type": "code",
   "execution_count": 44,
   "id": "38329311",
   "metadata": {},
   "outputs": [
    {
     "name": "stdout",
     "output_type": "stream",
     "text": [
      "Shape dos dados após remoção das colunas ID e Species: (150, 4)\n",
      "Features utilizadas: ['SepalLengthCm', 'SepalWidthCm', 'PetalLengthCm', 'PetalWidthCm']\n"
     ]
    }
   ],
   "source": [
    "# Removendo as colunas ID e Species (target)\n",
    "X = dataset.drop(['Id', 'Species'], axis=1).values\n",
    "print(f\"Shape dos dados após remoção das colunas ID e Species: {X.shape}\")\n",
    "print(f\"Features utilizadas: {dataset.drop(['Id', 'Species'], axis=1).columns.tolist()}\")"
   ]
  },
  {
   "cell_type": "markdown",
   "id": "f4ae855d",
   "metadata": {},
   "source": [
    "## Implementação do Algoritmo K-means do Zero\n",
    "\n",
    "Implementaremos o algoritmo, seguindo os passos:\n",
    "1. Inicializar centroids aleatoriamente\n",
    "2. Atribuir cada ponto ao centroid mais próximo\n",
    "3. Recalcular centroids como média dos pontos atribuídos\n",
    "4. Repetir até convergência"
   ]
  },
  {
   "cell_type": "code",
   "execution_count": null,
   "id": "d2c9c806",
   "metadata": {},
   "outputs": [],
   "source": [
    "import random\n",
    "import matplotlib.pyplot as plt\n",
    "\n",
    "class KMeansHardCoded:\n",
    "    def __init__(self, k=3, max_iterations=100, random_state=42):\n",
    "        \"\"\"\n",
    "        Inicializa o algoritmo K-means\n",
    "        \n",
    "        Parametros:\n",
    "        k: número de clusters\n",
    "        max_iterations: número máximo de iterações\n",
    "        random_state: semente para reprodutibilidade\n",
    "        \"\"\"\n",
    "        self.k = k\n",
    "        self.max_iterations = max_iterations\n",
    "        self.random_state = random_state\n",
    "        \n",
    "    def _initialize_centroids(self, X):\n",
    "        \"\"\"\n",
    "        Inicializa os centroids aleatoriamente dentro do range dos dados\n",
    "        \"\"\"\n",
    "        np.random.seed(self.random_state)\n",
    "        n_samples, n_features = X.shape\n",
    "        \n",
    "        centroids = np.zeros((self.k, n_features))\n",
    "        for i in range(n_features):\n",
    "            centroids[:, i] = np.random.uniform(X[:, i].min(), X[:, i].max(), self.k)\n",
    "        \n",
    "        return centroids\n",
    "    \n",
    "    def _euclidean_distance(self, point1, point2):\n",
    "        \"\"\"\n",
    "        Calcula a distância euclidiana entre dois pontos\n",
    "        \"\"\"\n",
    "        return np.sqrt(np.sum((point1 - point2) ** 2))\n",
    "    \n",
    "    def _assign_clusters(self, X, centroids):\n",
    "        \"\"\"\n",
    "        Atribui cada ponto ao cluster mais próximo\n",
    "        \"\"\"\n",
    "        clusters = []\n",
    "        for point in X:\n",
    "            distances = [self._euclidean_distance(point, centroid) for centroid in centroids]\n",
    "            closest_cluster = distances.index(min(distances))\n",
    "            clusters.append(closest_cluster)\n",
    "        return np.array(clusters)\n",
    "    \n",
    "    def _update_centroids(self, X, clusters):\n",
    "        \"\"\"\n",
    "        Atualiza os centroids como a média dos pontos em cada cluster\n",
    "        \"\"\"\n",
    "        centroids = np.zeros((self.k, X.shape[1]))\n",
    "        for i in range(self.k):\n",
    "            cluster_points = X[clusters == i]\n",
    "            if len(cluster_points) > 0:\n",
    "                centroids[i] = np.mean(cluster_points, axis=0)\n",
    "        return centroids\n",
    "    \n",
    "    def _has_converged(self, old_centroids, new_centroids, tolerance=1e-4):\n",
    "        \"\"\"\n",
    "        Verifica se o algoritmo convergiu\n",
    "        \"\"\"\n",
    "        return np.all(np.abs(old_centroids - new_centroids) < tolerance)\n",
    "    \n",
    "    def fit(self, X):\n",
    "        \"\"\"\n",
    "        Executa o algoritmo K-means\n",
    "        \"\"\"\n",
    "        # Inicializar centroids\n",
    "        self.centroids = self._initialize_centroids(X)\n",
    "        self.cost_history = []\n",
    "        \n",
    "        for iteration in range(self.max_iterations):\n",
    "            # Atribuir clusters\n",
    "            clusters = self._assign_clusters(X, self.centroids)\n",
    "            \n",
    "            # Calcular custo (soma das distâncias quadráticas)\n",
    "            cost = 0\n",
    "            for i, point in enumerate(X):\n",
    "                cost += self._euclidean_distance(point, self.centroids[clusters[i]]) ** 2\n",
    "            self.cost_history.append(cost)\n",
    "            \n",
    "            # Atualizar centroids\n",
    "            new_centroids = self._update_centroids(X, clusters)\n",
    "            \n",
    "            # Verificar convergência\n",
    "            if self._has_converged(self.centroids, new_centroids):\n",
    "                print(f\"Convergiu na iteração {iteration + 1}\")\n",
    "                break\n",
    "                \n",
    "            self.centroids = new_centroids\n",
    "        \n",
    "        self.labels_ = clusters\n",
    "        self.n_iterations = iteration + 1\n",
    "        return self\n",
    "    \n",
    "    def predict(self, X):\n",
    "        \"\"\"\n",
    "        Prediz os clusters para novos dados\n",
    "        \"\"\"\n",
    "        return self._assign_clusters(X, self.centroids)"
   ]
  },
  {
   "cell_type": "markdown",
   "id": "110b4faa",
   "metadata": {},
   "source": [
    "## Experimentos com K=3 e K=5"
   ]
  },
  {
   "cell_type": "code",
   "execution_count": 37,
   "id": "68f446fc",
   "metadata": {},
   "outputs": [
    {
     "name": "stdout",
     "output_type": "stream",
     "text": [
      "Convergiu na iteração 7\n",
      "Iterações até convergência: 7\n",
      "Custo final: 78.94\n",
      "\n",
      "CENTROIDES FINAIS:\n",
      "   Cluster 0: [Sepal L: 5.01, Sepal W: 3.42, Petal L: 1.46, Petal W: 0.24]\n",
      "   Cluster 1: [Sepal L: 6.85, Sepal W: 3.07, Petal L: 5.74, Petal W: 2.07]\n",
      "   Cluster 2: [Sepal L: 5.90, Sepal W: 2.75, Petal L: 4.39, Petal W: 1.43]\n",
      "\n",
      "DISTRIBUIÇÃO DOS PONTOS:\n",
      "   Cluster 0:  50 pontos ( 33.3%)\n",
      "   Cluster 1:  38 pontos ( 25.3%)\n",
      "   Cluster 2:  62 pontos ( 41.3%)\n",
      "\n",
      "Total de pontos processados: 150\n"
     ]
    }
   ],
   "source": [
    "# =================== EXPERIMENTO 1: K=3 ===================\n",
    "kmeans_3 = KMeansHardCoded(k=3, max_iterations=100, random_state=42)\n",
    "kmeans_3.fit(X)\n",
    "\n",
    "print(f\"Iterações até convergência: {kmeans_3.n_iterations}\")\n",
    "print(f\"Custo final: {kmeans_3.cost_history[-1]:.2f}\")\n",
    "\n",
    "print(f\"\\nCENTROIDES FINAIS:\")\n",
    "for i, centroid in enumerate(kmeans_3.centroids):\n",
    "    print(f\"   Cluster {i}: [Sepal L: {centroid[0]:.2f}, Sepal W: {centroid[1]:.2f}, Petal L: {centroid[2]:.2f}, Petal W: {centroid[3]:.2f}]\")\n",
    "\n",
    "print(f\"\\nDISTRIBUIÇÃO DOS PONTOS:\")\n",
    "unique, counts = np.unique(kmeans_3.labels_, return_counts=True)\n",
    "total_pontos = len(kmeans_3.labels_)\n",
    "for cluster, num_pontos in zip(unique, counts):\n",
    "    percentual = (num_pontos / total_pontos) * 100\n",
    "    print(f\"   Cluster {cluster}: {num_pontos:3d} pontos ({percentual:5.1f}%)\")\n",
    "\n",
    "print(f\"\\nTotal de pontos processados: {total_pontos}\")"
   ]
  },
  {
   "cell_type": "markdown",
   "id": "62f43f1a",
   "metadata": {},
   "source": [
    "### Interpretação dos Resultados\n",
    "\n",
    "**O que significam os números:**\n",
    "- **Iterações**: Quantas vezes o algoritmo rodou até encontrar a melhor solução\n",
    "- **Custo**: Soma das distâncias de todos os pontos aos seus centroids (menor = melhor)\n",
    "- **Centroids**: Coordenadas do \"centro\" de cada cluster nas 4 dimensões do Iris\n",
    "- **Distribuição**: Quantos pontos foram atribuídos a cada cluster"
   ]
  },
  {
   "cell_type": "code",
   "execution_count": 38,
   "id": "9488a0ba",
   "metadata": {},
   "outputs": [
    {
     "name": "stdout",
     "output_type": "stream",
     "text": [
      "Convergiu na iteração 11\n",
      "Iterações até convergência: 11\n",
      "Custo final: 49.87\n",
      "\n",
      "CENTROIDES FINAIS:\n",
      "   Cluster 0: [Sepal L: 4.71, Sepal W: 3.12, Petal L: 1.42, Petal W: 0.19]\n",
      "   Cluster 1: [Sepal L: 7.09, Sepal W: 3.13, Petal L: 6.01, Petal W: 2.14]\n",
      "   Cluster 2: [Sepal L: 6.29, Sepal W: 2.90, Petal L: 4.95, Petal W: 1.73]\n",
      "   Cluster 3: [Sepal L: 5.58, Sepal W: 2.63, Petal L: 3.99, Petal W: 1.23]\n",
      "   Cluster 4: [Sepal L: 5.26, Sepal W: 3.67, Petal L: 1.50, Petal W: 0.29]\n",
      "\n",
      "DISTRIBUIÇÃO DOS PONTOS:\n",
      "   Cluster 0:  23 pontos ( 15.3%)\n",
      "   Cluster 1:  23 pontos ( 15.3%)\n",
      "   Cluster 2:  47 pontos ( 31.3%)\n",
      "   Cluster 3:  30 pontos ( 20.0%)\n",
      "   Cluster 4:  27 pontos ( 18.0%)\n",
      "\n",
      "Total de pontos processados: 150\n"
     ]
    }
   ],
   "source": [
    "kmeans_5 = KMeansHardCoded(k=5, max_iterations=100, random_state=42)\n",
    "kmeans_5.fit(X)\n",
    "\n",
    "print(f\"Iterações até convergência: {kmeans_5.n_iterations}\")\n",
    "print(f\"Custo final: {kmeans_5.cost_history[-1]:.2f}\")\n",
    "\n",
    "print(f\"\\nCENTROIDES FINAIS:\")\n",
    "for i, centroid in enumerate(kmeans_5.centroids):\n",
    "    print(f\"   Cluster {i}: [Sepal L: {centroid[0]:.2f}, Sepal W: {centroid[1]:.2f}, Petal L: {centroid[2]:.2f}, Petal W: {centroid[3]:.2f}]\")\n",
    "\n",
    "print(f\"\\nDISTRIBUIÇÃO DOS PONTOS:\")\n",
    "unique, counts = np.unique(kmeans_5.labels_, return_counts=True)\n",
    "total_pontos = len(kmeans_5.labels_)\n",
    "for cluster, num_pontos in zip(unique, counts):\n",
    "    percentual = (num_pontos / total_pontos) * 100\n",
    "    print(f\"   Cluster {cluster}: {num_pontos:3d} pontos ({percentual:5.1f}%)\")\n",
    "\n",
    "print(f\"\\nTotal de pontos processados: {total_pontos}\")"
   ]
  },
  {
   "cell_type": "markdown",
   "id": "a2bb550f",
   "metadata": {},
   "source": [
    "## Avaliação dos Clusters com Silhouette Score"
   ]
  },
  {
   "cell_type": "code",
   "execution_count": 39,
   "id": "9697046c",
   "metadata": {},
   "outputs": [
    {
     "name": "stdout",
     "output_type": "stream",
     "text": [
      "=== AVALIAÇÃO COM SILHOUETTE SCORE ===\n",
      "Silhouette Score para K=3: 0.5526\n",
      "Silhouette Score para K=5: 0.3723\n",
      "\n",
      "=== ANÁLISE DOS RESULTADOS ===\n",
      "K=3 apresentou melhor resultado (Silhouette: 0.5526)\n",
      "\n",
      "O melhor K encontrado foi: 3 (Silhouette Score: 0.5526)\n"
     ]
    }
   ],
   "source": [
    "from sklearn.metrics import silhouette_score\n",
    "\n",
    "# Calcular Silhouette Score para K=3\n",
    "silhouette_3 = silhouette_score(X, kmeans_3.labels_)\n",
    "print(f\"=== AVALIAÇÃO COM SILHOUETTE SCORE ===\")\n",
    "print(f\"Silhouette Score para K=3: {silhouette_3:.4f}\")\n",
    "\n",
    "# Calcular Silhouette Score para K=5\n",
    "silhouette_5 = silhouette_score(X, kmeans_5.labels_)\n",
    "print(f\"Silhouette Score para K=5: {silhouette_5:.4f}\")\n",
    "\n",
    "print(f\"\\n=== ANÁLISE DOS RESULTADOS ===\")\n",
    "if silhouette_3 > silhouette_5:\n",
    "    print(f\"K=3 apresentou melhor resultado (Silhouette: {silhouette_3:.4f})\")\n",
    "    melhor_k = 3\n",
    "    melhor_silhouette = silhouette_3\n",
    "    melhor_modelo = kmeans_3\n",
    "else:\n",
    "    print(f\"K=5 apresentou melhor resultado (Silhouette: {silhouette_5:.4f})\")\n",
    "    melhor_k = 5\n",
    "    melhor_silhouette = silhouette_5\n",
    "    melhor_modelo = kmeans_5\n",
    "\n",
    "print(f\"\\nO melhor K encontrado foi: {melhor_k} (Silhouette Score: {melhor_silhouette:.4f})\")"
   ]
  },
  {
   "cell_type": "markdown",
   "id": "ee18ac39",
   "metadata": {},
   "source": [
    "## Comparação com K-means do Sklearn"
   ]
  },
  {
   "cell_type": "code",
   "execution_count": 40,
   "id": "edbc255c",
   "metadata": {},
   "outputs": [
    {
     "name": "stdout",
     "output_type": "stream",
     "text": [
      "=== COMPARAÇÃO COM SKLEARN ===\n",
      "SKLEARN K=3:\n",
      "  Silhouette Score: 0.5526\n",
      "  Centroids:\n",
      "    Cluster 0: [5.90, 2.75, 4.39, 1.43]\n",
      "    Cluster 1: [5.01, 3.42, 1.46, 0.24]\n",
      "    Cluster 2: [6.85, 3.07, 5.74, 2.07]\n",
      "\n",
      "SKLEARN K=5:\n",
      "  Silhouette Score: 0.4885\n",
      "  Centroids:\n",
      "    Cluster 0: [6.21, 2.85, 4.75, 1.56]\n",
      "    Cluster 1: [5.01, 3.42, 1.46, 0.24]\n",
      "    Cluster 2: [5.51, 2.60, 3.91, 1.20]\n",
      "    Cluster 3: [7.47, 3.12, 6.30, 2.05]\n",
      "    Cluster 4: [6.53, 3.06, 5.51, 2.16]\n",
      "\n",
      "=== COMPARAÇÃO DOS RESULTADOS ===\n",
      "K=3 - Nossa implementação: 0.5526 | Sklearn: 0.5526\n",
      "K=5 - Nossa implementação: 0.3723 | Sklearn: 0.4885\n",
      "\n",
      "Melhor K (nossa implementação): 3\n",
      "Melhor K (sklearn): 3\n"
     ]
    }
   ],
   "source": [
    "from sklearn.cluster import KMeans\n",
    "\n",
    "print(\"=== COMPARAÇÃO COM SKLEARN ===\")\n",
    "\n",
    "# K-means sklearn para K=3\n",
    "kmeans_sklearn_3 = KMeans(n_clusters=3, random_state=42, n_init=10)\n",
    "labels_sklearn_3 = kmeans_sklearn_3.fit_predict(X)\n",
    "silhouette_sklearn_3 = silhouette_score(X, labels_sklearn_3)\n",
    "\n",
    "print(f\"SKLEARN K=3:\")\n",
    "print(f\"  Silhouette Score: {silhouette_sklearn_3:.4f}\")\n",
    "print(f\"  Centroids:\")\n",
    "for i, centroid in enumerate(kmeans_sklearn_3.cluster_centers_):\n",
    "    print(f\"    Cluster {i}: [{centroid[0]:.2f}, {centroid[1]:.2f}, {centroid[2]:.2f}, {centroid[3]:.2f}]\")\n",
    "\n",
    "# K-means sklearn para K=5\n",
    "kmeans_sklearn_5 = KMeans(n_clusters=5, random_state=42, n_init=10)\n",
    "labels_sklearn_5 = kmeans_sklearn_5.fit_predict(X)\n",
    "silhouette_sklearn_5 = silhouette_score(X, labels_sklearn_5)\n",
    "\n",
    "print(f\"\\nSKLEARN K=5:\")\n",
    "print(f\"  Silhouette Score: {silhouette_sklearn_5:.4f}\")\n",
    "print(f\"  Centroids:\")\n",
    "for i, centroid in enumerate(kmeans_sklearn_5.cluster_centers_):\n",
    "    print(f\"    Cluster {i}: [{centroid[0]:.2f}, {centroid[1]:.2f}, {centroid[2]:.2f}, {centroid[3]:.2f}]\")\n",
    "\n",
    "print(f\"\\n=== COMPARAÇÃO DOS RESULTADOS ===\")\n",
    "print(f\"K=3 - Nossa implementação: {silhouette_3:.4f} | Sklearn: {silhouette_sklearn_3:.4f}\")\n",
    "print(f\"K=5 - Nossa implementação: {silhouette_5:.4f} | Sklearn: {silhouette_sklearn_5:.4f}\")\n",
    "\n",
    "# Determinar melhor K do sklearn\n",
    "if silhouette_sklearn_3 > silhouette_sklearn_5:\n",
    "    melhor_k_sklearn = 3\n",
    "    melhor_modelo_sklearn = kmeans_sklearn_3\n",
    "    melhor_labels_sklearn = labels_sklearn_3\n",
    "    melhor_silhouette_sklearn = silhouette_sklearn_3\n",
    "else:\n",
    "    melhor_k_sklearn = 5\n",
    "    melhor_modelo_sklearn = kmeans_sklearn_5\n",
    "    melhor_labels_sklearn = labels_sklearn_5\n",
    "    melhor_silhouette_sklearn = silhouette_sklearn_5\n",
    "\n",
    "print(f\"\\nMelhor K (nossa implementação): {melhor_k}\")\n",
    "print(f\"Melhor K (sklearn): {melhor_k_sklearn}\")"
   ]
  },
  {
   "cell_type": "markdown",
   "id": "46ec69fd",
   "metadata": {},
   "source": [
    "## Redução de Dimensionalidade com PCA e Visualização\n",
    "\n",
    "Agora vamos aplicar PCA com 1 e 2 componentes e visualizar os clusters com o melhor K encontrado (K=3)."
   ]
  },
  {
   "cell_type": "code",
   "execution_count": 41,
   "id": "ced17d14",
   "metadata": {},
   "outputs": [
    {
     "name": "stdout",
     "output_type": "stream",
     "text": [
      "=== ANÁLISE PCA ===\n",
      "Variância explicada com 1 componente: 0.9246 (92.46%)\n",
      "Variância explicada com 2 componentes: 0.9776 (97.76%)\n",
      "\n",
      "=== SILHOUETTE SCORES COM PCA ===\n",
      "Dados originais (4D): 0.5526\n",
      "PCA 1D: 0.6772\n",
      "PCA 2D: 0.5976\n"
     ]
    }
   ],
   "source": [
    "from sklearn.decomposition import PCA\n",
    "import matplotlib.pyplot as plt\n",
    "import seaborn as sns\n",
    "\n",
    "# Configuração do matplotlib\n",
    "plt.style.use('default')\n",
    "sns.set_palette(\"husl\")\n",
    "\n",
    "# Aplicar PCA com 1 componente\n",
    "pca_1d = PCA(n_components=1)\n",
    "X_pca_1d = pca_1d.fit_transform(X)\n",
    "\n",
    "# Aplicar PCA com 2 componentes  \n",
    "pca_2d = PCA(n_components=2)\n",
    "X_pca_2d = pca_2d.fit_transform(X)\n",
    "\n",
    "print(\"=== ANÁLISE PCA ===\")\n",
    "print(f\"Variância explicada com 1 componente: {pca_1d.explained_variance_ratio_[0]:.4f} ({pca_1d.explained_variance_ratio_[0]*100:.2f}%)\")\n",
    "print(f\"Variância explicada com 2 componentes: {pca_2d.explained_variance_ratio_.sum():.4f} ({pca_2d.explained_variance_ratio_.sum()*100:.2f}%)\")\n",
    "\n",
    "# Aplicar K-means nos dados reduzidos (usando melhor K = 3)\n",
    "# PCA 1D\n",
    "kmeans_pca_1d = KMeans(n_clusters=melhor_k, random_state=42, n_init=10)\n",
    "labels_pca_1d = kmeans_pca_1d.fit_predict(X_pca_1d)\n",
    "silhouette_pca_1d = silhouette_score(X_pca_1d, labels_pca_1d)\n",
    "\n",
    "# PCA 2D\n",
    "kmeans_pca_2d = KMeans(n_clusters=melhor_k, random_state=42, n_init=10)\n",
    "labels_pca_2d = kmeans_pca_2d.fit_predict(X_pca_2d)\n",
    "silhouette_pca_2d = silhouette_score(X_pca_2d, labels_pca_2d)\n",
    "\n",
    "print(f\"\\n=== SILHOUETTE SCORES COM PCA ===\")\n",
    "print(f\"Dados originais (4D): {melhor_silhouette:.4f}\")\n",
    "print(f\"PCA 1D: {silhouette_pca_1d:.4f}\")\n",
    "print(f\"PCA 2D: {silhouette_pca_2d:.4f}\")"
   ]
  },
  {
   "cell_type": "code",
   "execution_count": 43,
   "id": "5aba18e4",
   "metadata": {},
   "outputs": [
    {
     "data": {
      "image/png": "[encoded data removed]",
      "text/plain": [
       "<Figure size 1500x600 with 2 Axes>"
      ]
     },
     "metadata": {},
     "output_type": "display_data"
    },
    {
     "name": "stdout",
     "output_type": "stream",
     "text": [
      "=== CENTROIDES COM PCA ===\n",
      "PCA 1D - Centroides:\n",
      "  Cluster 0: 2.3557\n",
      "  Cluster 1: -2.6408\n",
      "  Cluster 2: 0.6585\n",
      "\n",
      "PCA 2D - Centroides:\n",
      "  Cluster 0: [2.3465, 0.2724]\n",
      "  Cluster 1: [-2.6408, 0.1905]\n",
      "  Cluster 2: [0.6644, -0.3303]\n"
     ]
    }
   ],
   "source": [
    "# Visualização dos clusters\n",
    "fig, axes = plt.subplots(1, 2, figsize=(15, 6))\n",
    "\n",
    "# Plot 1D (usando um scatter plot no eixo x)\n",
    "colors = ['red', 'blue', 'green', 'purple', 'orange']\n",
    "for i in range(melhor_k):\n",
    "    cluster_points = X_pca_1d[labels_pca_1d == i]\n",
    "    axes[0].scatter(cluster_points, [0] * len(cluster_points), \n",
    "                   c=colors[i], label=f'Cluster {i}', alpha=0.6, s=50)\n",
    "    # Plotar centroide\n",
    "    axes[0].scatter(kmeans_pca_1d.cluster_centers_[i], [0], \n",
    "                   c='black', marker='x', s=200, linewidths=3)\n",
    "\n",
    "axes[0].set_xlabel('Primeiro Componente Principal')\n",
    "axes[0].set_title(f'K-means com PCA 1D (K={melhor_k})\\nSilhouette Score: {silhouette_pca_1d:.4f}')\n",
    "axes[0].legend()\n",
    "axes[0].grid(True, alpha=0.3)\n",
    "axes[0].set_ylim(-0.5, 0.5)\n",
    "\n",
    "# Plot 2D\n",
    "for i in range(melhor_k):\n",
    "    cluster_points = X_pca_2d[labels_pca_2d == i]\n",
    "    axes[1].scatter(cluster_points[:, 0], cluster_points[:, 1], \n",
    "                   c=colors[i], label=f'Cluster {i}', alpha=0.6, s=50)\n",
    "    # Plotar centroide\n",
    "    axes[1].scatter(kmeans_pca_2d.cluster_centers_[i, 0], \n",
    "                   kmeans_pca_2d.cluster_centers_[i, 1],\n",
    "                   c='black', marker='x', s=200, linewidths=3)\n",
    "\n",
    "axes[1].set_xlabel('Primeiro Componente Principal')\n",
    "axes[1].set_ylabel('Segundo Componente Principal')\n",
    "axes[1].set_title(f'K-means com PCA 2D (K={melhor_k})\\nSilhouette Score: {silhouette_pca_2d:.4f}')\n",
    "axes[1].legend()\n",
    "axes[1].grid(True, alpha=0.3)\n",
    "\n",
    "plt.tight_layout()\n",
    "plt.show()\n",
    "\n",
    "# Adicionar informação sobre os centroides\n",
    "print(f\"=== CENTROIDES COM PCA ===\")\n",
    "print(f\"PCA 1D - Centroides:\")\n",
    "for i, centroid in enumerate(kmeans_pca_1d.cluster_centers_):\n",
    "    print(f\"  Cluster {i}: {centroid[0]:.4f}\")\n",
    "\n",
    "print(f\"\\nPCA 2D - Centroides:\")\n",
    "for i, centroid in enumerate(kmeans_pca_2d.cluster_centers_):\n",
    "    print(f\"  Cluster {i}: [{centroid[0]:.4f}, {centroid[1]:.4f}]\")"
   ]
  }
 ],
 "metadata": {
  "kernelspec": {
   "display_name": ".venv",
   "language": "python",
   "name": "python3"
  },
  "language_info": {
   "codemirror_mode": {
    "name": "ipython",
    "version": 3
   },
   "file_extension": ".py",
   "mimetype": "text/x-python",
   "name": "python",
   "nbconvert_exporter": "python",
   "pygments_lexer": "ipython3",
   "version": "3.13.1"
  }
 },
 "nbformat": 4,
 "nbformat_minor": 5
}
